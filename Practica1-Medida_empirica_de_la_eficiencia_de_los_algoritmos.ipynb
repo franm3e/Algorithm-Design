{
 "cells": [
  {
   "cell_type": "markdown",
   "metadata": {},
   "source": [
    "# Práctica 1: Medida empírica de la eficiencia de algoritmos\n",
    "## Diseño de algoritmos 2017/18 - Francisco Martínez Esteso"
   ]
  },
  {
   "cell_type": "markdown",
   "metadata": {},
   "source": [
    "---"
   ]
  },
  {
   "cell_type": "markdown",
   "metadata": {},
   "source": [
    "# Indice de contenido\n",
    "\n",
    "* [Introducción](#Introducción)\n",
    "    * [Paquetes y librerías](#Paquetes-y-librerías)\n",
    "* [Inserción](#Inserción)\n",
    "    * [Orden Directo](#Orden-Directo)\n",
    "    * [Orden Inverso](#Orden-Inverso)\n",
    "    * [Orden Aleatorio](#Orden-Aleatorio)\n",
    "* [Selección](#Selección)\n",
    "    * [Orden Directo](#Orden-Directo)\n",
    "    * [Orden Inverso](#Orden-Inverso)\n",
    "    * [Orden Aleatorio](#Orden-Aleatorio)\n",
    "* [Burbuja](#Burbuja)\n",
    "    * [Orden Directo](#Orden-Directo)\n",
    "    * [Orden Inverso](#Orden-Inverso)\n",
    "    * [Orden Aleatorio](#Orden-Aleatorio)\n",
    "* [Ajuste función analítica](#Ajuste-función-analítica)\n",
    "* [Conclusiones](#Conclusiones)"
   ]
  },
  {
   "cell_type": "markdown",
   "metadata": {},
   "source": [
    "---"
   ]
  },
  {
   "cell_type": "markdown",
   "metadata": {},
   "source": [
    "# Introducción"
   ]
  },
  {
   "cell_type": "markdown",
   "metadata": {},
   "source": [
    "El objetivo de esta primera práctica es doble. En primer lugar, comenzar a familiarizarse con el lenguaje\n",
    "Python, para quien no lo domine, y por otro lado, realizar un enfoque práctico a la comparativa de\n",
    "algoritmos mediante técnicas experimentales. Sin duda, la forma correcta de realizar una comparativa ha\n",
    "de ser mediante tácnicas analíticas, sin embargo, eso no siempre será posible, por lo que, de necesitar\n",
    "recurrir al estudio empírico experimental estudiaremos unas nociones elementales.\n",
    "\n",
    "Para ello, se describe cómo se evalúa el tiempo de ejecución de una función, el cual usaremos como medida analítica para comparar dichos algoritmos de ordenación. Para usamos el paquete `time`, con el siguiente esquema:\n",
    "```javascript\n",
    "    t = time()\n",
    "    Proc\n",
    "    t = time()-t\n",
    "```\n"
   ]
  },
  {
   "cell_type": "markdown",
   "metadata": {},
   "source": [
    "---"
   ]
  },
  {
   "cell_type": "markdown",
   "metadata": {},
   "source": [
    "## Paquetes y librerías"
   ]
  },
  {
   "cell_type": "markdown",
   "metadata": {},
   "source": [
    "Cargamos previamente todos los paquetes y librerías en python que nos serán de utilidad en esta práctica:"
   ]
  },
  {
   "cell_type": "code",
   "execution_count": 1,
   "metadata": {
    "collapsed": true
   },
   "outputs": [],
   "source": [
    "import matplotlib.pyplot as plt\n",
    "import numpy.polynomial.polynomial as poly\n",
    "import numpy as np\n",
    "from time import time\n",
    "import random\n",
    "import copy"
   ]
  },
  {
   "cell_type": "markdown",
   "metadata": {},
   "source": [
    "---"
   ]
  },
  {
   "cell_type": "markdown",
   "metadata": {},
   "source": [
    "# Inserción"
   ]
  },
  {
   "cell_type": "markdown",
   "metadata": {},
   "source": [
    "Esquema algorítmico:\n",
    "```python\n",
    "def Insercion(a,n):\n",
    "    for i in range(1,n):\n",
    "    v = a[i]\n",
    "    j = i-1\n",
    "    while j >= 0 and a[j] > v:\n",
    "        a[j+1] = a[j]\n",
    "        j = j-1\n",
    "    a[j+1] = v\n",
    "```"
   ]
  },
  {
   "cell_type": "markdown",
   "metadata": {},
   "source": [
    "Citando expresamente [[Fuente]](https://es.wikipedia.org/wiki/Ordenamiento_por_inserci%C3%B3n), el algoritmo de ordenación mediante inserción:\n",
    "> Inicialmente se tiene un solo elemento, que obviamente es un conjunto ordenado. Después, cuando hay k elementos ordenados de menor a mayor, se toma el elemento k+1 y se compara con todos los elementos ya ordenados, deteniéndose cuando se encuentra un elemento menor (todos los elementos mayores han sido desplazados una posición a la derecha) o cuando ya no se encuentran elementos (todos los elementos fueron desplazados y este es el más pequeño). En este punto se inserta el elemento k+1 debiendo desplazarse los demás elementos.\n",
    "\n",
    "![Inserción](https://upload.wikimedia.org/wikipedia/commons/thumb/0/0f/Insertion-sort-example-300px.gif/250px-Insertion-sort-example-300px.gif)"
   ]
  },
  {
   "cell_type": "markdown",
   "metadata": {},
   "source": [
    "Cargamos ahora la función dada y creamos un diccionario auxiliar que nos ayudará a almacenar los valores obtenidos para más tarde poder graficar los resultados:"
   ]
  },
  {
   "cell_type": "code",
   "execution_count": 2,
   "metadata": {
    "collapsed": true
   },
   "outputs": [],
   "source": [
    "def Insercion(a,n):\n",
    "    for i in range(1,n):\n",
    "        v=a[i]\n",
    "        j=i-1\n",
    "        while j >= 0 and a[j] > v:\n",
    "            a[j+1] = a[j]\n",
    "            j=j-1\n",
    "        a[j+1]=v"
   ]
  },
  {
   "cell_type": "code",
   "execution_count": 3,
   "metadata": {
    "collapsed": false
   },
   "outputs": [],
   "source": [
    "saveIns = {'Directo': [], 'Inverso': [], 'Aleatorio': []}"
   ]
  },
  {
   "cell_type": "markdown",
   "metadata": {},
   "source": [
    "---"
   ]
  },
  {
   "cell_type": "markdown",
   "metadata": {},
   "source": [
    "## Orden Directo"
   ]
  },
  {
   "cell_type": "markdown",
   "metadata": {},
   "source": [
    "Primero creamos un bucle externo el cual se ejecutará 20 veces para el incremento de items en el rango (100,2000). Dentro de este bucle, creamos un array de números en orden directo para el número de items que corresponda, y ejecutamos `Inserción` sobre dicho array. Por último actualizamos índices y guardamos los resultados en el diccionario."
   ]
  },
  {
   "cell_type": "code",
   "execution_count": 4,
   "metadata": {
    "collapsed": false
   },
   "outputs": [
    {
     "name": "stdout",
     "output_type": "stream",
     "text": [
      "\n",
      "// INSERCIÓN\n",
      "// ORDEN DIRECTO\n",
      "\n",
      "Items: 100\tTiempo: 0.0\n",
      "Items: 200\tTiempo: 0.0\n",
      "Items: 300\tTiempo: 0.0\n",
      "Items: 400\tTiempo: 0.0\n",
      "Items: 500\tTiempo: 0.0\n",
      "Items: 600\tTiempo: 0.0\n",
      "Items: 700\tTiempo: 0.0\n",
      "Items: 800\tTiempo: 0.0\n",
      "Items: 900\tTiempo: 0.0\n",
      "Items: 1000\tTiempo: 0.015119552612304688\n",
      "Items: 1100\tTiempo: 0.0\n",
      "Items: 1200\tTiempo: 0.0\n",
      "Items: 1300\tTiempo: 0.0\n",
      "Items: 1400\tTiempo: 0.0\n",
      "Items: 1500\tTiempo: 0.0\n",
      "Items: 1600\tTiempo: 0.0\n",
      "Items: 1700\tTiempo: 0.0\n",
      "Items: 1800\tTiempo: 0.0\n",
      "Items: 1900\tTiempo: 0.0\n",
      "Items: 2000\tTiempo: 0.0\n",
      "\n",
      "Media Tiempo: 0.000755977630615\n"
     ]
    }
   ],
   "source": [
    "print(\"\\n// INSERCIÓN\\n// ORDEN DIRECTO\\n\")\n",
    "items = 100;\n",
    "for x in range(0,20):\n",
    "    array = list(range(0, items));\n",
    "    t = time()\n",
    "    Insercion(array,items)\n",
    "    t = time() - t\n",
    "    print(\"Items: \" + str(len(array)) + \"\\tTiempo: \" + str(t))\n",
    "    saveIns['Directo'].append(t)\n",
    "    items = items + 100\n",
    "print(\"\\nMedia Tiempo: \" + str(np.mean(saveIns['Directo'])))"
   ]
  },
  {
   "cell_type": "markdown",
   "metadata": {},
   "source": [
    "---"
   ]
  },
  {
   "cell_type": "markdown",
   "metadata": {},
   "source": [
    "## Orden Inverso"
   ]
  },
  {
   "cell_type": "markdown",
   "metadata": {},
   "source": [
    "La estructura es igual que para el orden directo, con la salvedad de que al generar el array se utiliza la función `reverse()` para darle la vuelta al array y conseguir así el orden inverso."
   ]
  },
  {
   "cell_type": "code",
   "execution_count": 5,
   "metadata": {
    "collapsed": false
   },
   "outputs": [
    {
     "name": "stdout",
     "output_type": "stream",
     "text": [
      "\n",
      "// INSERCIÓN\n",
      "// ORDEN INVERSO\n",
      "\n",
      "Items: 100\tTiempo: 0.0\n",
      "Items: 200\tTiempo: 0.0\n",
      "Items: 300\tTiempo: 0.015244483947753906\n",
      "Items: 400\tTiempo: 0.015588760375976562\n",
      "Items: 500\tTiempo: 0.03124523162841797\n",
      "Items: 600\tTiempo: 0.031250953674316406\n",
      "Items: 700\tTiempo: 0.06250238418579102\n",
      "Items: 800\tTiempo: 0.07812213897705078\n",
      "Items: 900\tTiempo: 0.09375715255737305\n",
      "Items: 1000\tTiempo: 0.10937142372131348\n",
      "Items: 1100\tTiempo: 0.12499785423278809\n",
      "Items: 1200\tTiempo: 0.1874985694885254\n",
      "Items: 1300\tTiempo: 0.17192292213439941\n",
      "Items: 1400\tTiempo: 0.20312714576721191\n",
      "Items: 1500\tTiempo: 0.28197550773620605\n",
      "Items: 1600\tTiempo: 0.2968630790710449\n",
      "Items: 1700\tTiempo: 0.3750026226043701\n",
      "Items: 1800\tTiempo: 0.35938239097595215\n",
      "Items: 1900\tTiempo: 0.4687516689300537\n",
      "Items: 2000\tTiempo: 0.5001707077026367\n",
      "\n",
      "Media Tiempo: 0.170338749886\n"
     ]
    }
   ],
   "source": [
    "print(\"\\n// INSERCIÓN\\n// ORDEN INVERSO\\n\")\n",
    "items = 100;\n",
    "for x in range(0,20):\n",
    "    array = list(range(0, items));\n",
    "    array.reverse()\n",
    "    t = time()\n",
    "    Insercion(array,items)\n",
    "    t = time() - t\n",
    "    print(\"Items: \" + str(len(array)) + \"\\tTiempo: \" + str(t))\n",
    "    saveIns['Inverso'].append(t)\n",
    "    items = items + 100\n",
    "print(\"\\nMedia Tiempo: \" + str(np.mean(saveIns['Inverso'])))"
   ]
  },
  {
   "cell_type": "markdown",
   "metadata": {},
   "source": [
    "---"
   ]
  },
  {
   "cell_type": "markdown",
   "metadata": {},
   "source": [
    "## Orden Aleatorio"
   ]
  },
  {
   "cell_type": "code",
   "execution_count": 6,
   "metadata": {
    "collapsed": false
   },
   "outputs": [
    {
     "name": "stdout",
     "output_type": "stream",
     "text": [
      "\n",
      "// INSERCIÓN\n",
      "// ORDEN ALEATORIO\n",
      "\n",
      "Items: 100\tTiempo: 0.0\n",
      "Items: 200\tTiempo: 0.00468685626984\n",
      "Items: 300\tTiempo: 0.00625009536743\n",
      "Items: 400\tTiempo: 0.00781276226044\n",
      "Items: 500\tTiempo: 0.0140624284744\n",
      "Items: 600\tTiempo: 0.0171917915344\n",
      "Items: 700\tTiempo: 0.0281203985214\n",
      "Items: 800\tTiempo: 0.0359372854233\n",
      "Items: 900\tTiempo: 0.045312833786\n",
      "Items: 1000\tTiempo: 0.0547092199326\n",
      "Items: 1100\tTiempo: 0.0687503576279\n",
      "Items: 1200\tTiempo: 0.0843748092651\n",
      "Items: 1300\tTiempo: 0.110949921608\n",
      "Items: 1400\tTiempo: 0.114080381393\n",
      "Items: 1500\tTiempo: 0.175372934341\n",
      "Items: 1600\tTiempo: 0.225924706459\n",
      "Items: 1700\tTiempo: 0.193768382072\n",
      "Items: 1800\tTiempo: 0.179706120491\n",
      "Items: 1900\tTiempo: 0.215641832352\n",
      "Items: 2000\tTiempo: 0.270334005356\n",
      "\n",
      "Media Tiempo: 0.0926493561268\n"
     ]
    }
   ],
   "source": [
    "print(\"\\n// INSERCIÓN\\n// ORDEN ALEATORIO\\n\")\n",
    "items = 100;\n",
    "array = []\n",
    "tiempos = []\n",
    "for x in range(0,20):\n",
    "    # Generación del array\n",
    "    for y in range(0,items):\n",
    "        array.append(random.randrange(0,items))\n",
    "    t = time()\n",
    "    # Bucle minimización errores\n",
    "    for num in range(0,10):\n",
    "        t = time()\n",
    "        Insercion(copy.copy(array),items)\n",
    "        t = time() - t\n",
    "        tiempos.append(t)\n",
    "    print(\"Items: \" + str(len(array)) + \"\\tTiempo: \" + str(np.mean(tiempos)))\n",
    "    # Actualizacion índices y estructuras\n",
    "    saveIns['Aleatorio'].append(np.mean(tiempos))\n",
    "    items = items + 100\n",
    "    tiempos = []\n",
    "    array = []\n",
    "print(\"\\nMedia Tiempo: \" + str(np.mean(saveIns['Aleatorio'])))"
   ]
  },
  {
   "cell_type": "markdown",
   "metadata": {},
   "source": [
    "---"
   ]
  },
  {
   "cell_type": "markdown",
   "metadata": {},
   "source": [
    "# Selección"
   ]
  },
  {
   "cell_type": "markdown",
   "metadata": {},
   "source": [
    "Esquema algorítmico:\n",
    "\n",
    "```python\n",
    "def Seleccion(a,n):\n",
    "    for i in range(0,n-1):\n",
    "        min = i\n",
    "        for j in range(i+1,n):\n",
    "            if a[min] > a[j]:\n",
    "                min = j\n",
    "        aux = a[min]\n",
    "        a[min] = a[i]\n",
    "        a[i] = aux\n",
    "```"
   ]
  },
  {
   "cell_type": "markdown",
   "metadata": {},
   "source": [
    "Obtenemos igual que antes una introducción acerca del funcionamiento del algoritmo [Fuente](https://es.wikipedia.org/wiki/Ordenamiento_por_selecci%C3%B3n):\n",
    "\n",
    "Su funcionamiento es el siguiente:\n",
    "    1. Buscar el mínimo elemento de la lista\n",
    "    2. Intercambiarlo con el primero\n",
    "    3. Buscar el siguiente mínimo en el resto de la lista\n",
    "    4. Intercambiarlo con el segundo\n",
    "Y en general:\n",
    "    - Buscar el mínimo elemento entre una posición i y el final de la lista\n",
    "    - Intercambiar el mínimo con el elemento de la posición i\n",
    "    \n",
    "![Selección](https://upload.wikimedia.org/wikipedia/commons/9/94/Selection-Sort-Animation.gif)"
   ]
  },
  {
   "cell_type": "markdown",
   "metadata": {},
   "source": [
    "Volvemos a cargar la función dada y creamos el diccionario que nos ayuda a almacenar los valores obtenidos para más tarde poder graficar los resultados:"
   ]
  },
  {
   "cell_type": "code",
   "execution_count": 7,
   "metadata": {
    "collapsed": true
   },
   "outputs": [],
   "source": [
    "def Seleccion(a,n):\n",
    "    for i in range(0,n-1):\n",
    "        min=i\n",
    "        for j in range(i+1,n):\n",
    "            if a[min] > a[j]:\n",
    "                min=j\n",
    "        aux=a[min]\n",
    "        a[min]=a[i]\n",
    "        a[i]=aux"
   ]
  },
  {
   "cell_type": "code",
   "execution_count": 8,
   "metadata": {
    "collapsed": false
   },
   "outputs": [],
   "source": [
    "saveSel = {'Directo': [], 'Inverso': [], 'Aleatorio': []}"
   ]
  },
  {
   "cell_type": "markdown",
   "metadata": {},
   "source": [
    "---"
   ]
  },
  {
   "cell_type": "markdown",
   "metadata": {},
   "source": [
    "## Orden Directo"
   ]
  },
  {
   "cell_type": "code",
   "execution_count": 9,
   "metadata": {
    "collapsed": false
   },
   "outputs": [
    {
     "name": "stdout",
     "output_type": "stream",
     "text": [
      "\n",
      "// SELECCIÓN\n",
      "// ORDEN DIRECTO\n",
      "\n",
      "Items: 100\tTiempo: 0.0\n",
      "Items: 200\tTiempo: 0.015625\n",
      "Items: 300\tTiempo: 0.0\n",
      "Items: 400\tTiempo: 0.0\n",
      "Items: 500\tTiempo: 0.015625476837158203\n",
      "Items: 600\tTiempo: 0.015623092651367188\n",
      "Items: 700\tTiempo: 0.0312502384185791\n",
      "Items: 800\tTiempo: 0.046875715255737305\n",
      "Items: 900\tTiempo: 0.03125166893005371\n",
      "Items: 1000\tTiempo: 0.06249880790710449\n",
      "Items: 1100\tTiempo: 0.0781254768371582\n",
      "Items: 1200\tTiempo: 0.0781259536743164\n",
      "Items: 1300\tTiempo: 0.09375286102294922\n",
      "Items: 1400\tTiempo: 0.0937509536743164\n",
      "Items: 1500\tTiempo: 0.12499427795410156\n",
      "Items: 1600\tTiempo: 0.15629792213439941\n",
      "Items: 1700\tTiempo: 0.15633916854858398\n",
      "Items: 1800\tTiempo: 0.17188096046447754\n",
      "Items: 1900\tTiempo: 0.21875333786010742\n",
      "Items: 2000\tTiempo: 0.21874523162841797\n",
      "\n",
      "Media Tiempo: 0.0804758071899\n"
     ]
    }
   ],
   "source": [
    "print(\"\\n// SELECCIÓN\\n// ORDEN DIRECTO\\n\")\n",
    "items = 100;\n",
    "for x in range(0,20):\n",
    "    array = list(range(0, items));\n",
    "    t = time()\n",
    "    Seleccion(array,items)\n",
    "    t = time() - t\n",
    "    print(\"Items: \" + str(len(array)) + \"\\tTiempo: \" + str(t))\n",
    "    saveSel['Directo'].append(t)\n",
    "    items = items + 100\n",
    "print(\"\\nMedia Tiempo: \" + str(np.mean(saveSel['Directo'])))"
   ]
  },
  {
   "cell_type": "markdown",
   "metadata": {},
   "source": [
    "---"
   ]
  },
  {
   "cell_type": "markdown",
   "metadata": {},
   "source": [
    "## Orden Inverso"
   ]
  },
  {
   "cell_type": "code",
   "execution_count": 10,
   "metadata": {
    "collapsed": false
   },
   "outputs": [
    {
     "name": "stdout",
     "output_type": "stream",
     "text": [
      "\n",
      "// SELECCIÓN\n",
      "// ORDEN INVERSO\n",
      "\n",
      "Items: 100\tTiempo: 0.0\n",
      "Items: 200\tTiempo: 0.0\n",
      "Items: 300\tTiempo: 0.015623807907104492\n",
      "Items: 400\tTiempo: 0.0\n",
      "Items: 500\tTiempo: 0.01565861701965332\n",
      "Items: 600\tTiempo: 0.031215667724609375\n",
      "Items: 700\tTiempo: 0.03125119209289551\n",
      "Items: 800\tTiempo: 0.04687190055847168\n",
      "Items: 900\tTiempo: 0.046875\n",
      "Items: 1000\tTiempo: 0.0625002384185791\n",
      "Items: 1100\tTiempo: 0.07812356948852539\n",
      "Items: 1200\tTiempo: 0.07812857627868652\n",
      "Items: 1300\tTiempo: 0.10941576957702637\n",
      "Items: 1400\tTiempo: 0.12495636940002441\n",
      "Items: 1500\tTiempo: 0.14063811302185059\n",
      "Items: 1600\tTiempo: 0.15624022483825684\n",
      "Items: 1700\tTiempo: 0.18750405311584473\n",
      "Items: 1800\tTiempo: 0.15625286102294922\n",
      "Items: 1900\tTiempo: 0.21891498565673828\n",
      "Items: 2000\tTiempo: 0.2500004768371582\n",
      "\n",
      "Media Tiempo: 0.0875085711479\n"
     ]
    }
   ],
   "source": [
    "print(\"\\n// SELECCIÓN\\n// ORDEN INVERSO\\n\")\n",
    "items = 100;\n",
    "for x in range(0,20):\n",
    "    array = list(range(0, items));\n",
    "    array.reverse()\n",
    "    t = time()\n",
    "    Seleccion(array,items)\n",
    "    t = time() - t\n",
    "    print(\"Items: \" + str(len(array)) + \"\\tTiempo: \" + str(t))\n",
    "    saveSel['Inverso'].append(t)\n",
    "    items = items + 100\n",
    "print(\"\\nMedia Tiempo: \" + str(np.mean(saveSel['Inverso'])))"
   ]
  },
  {
   "cell_type": "markdown",
   "metadata": {},
   "source": [
    "---"
   ]
  },
  {
   "cell_type": "markdown",
   "metadata": {},
   "source": [
    "## Orden Aleatorio"
   ]
  },
  {
   "cell_type": "code",
   "execution_count": 11,
   "metadata": {
    "collapsed": false
   },
   "outputs": [
    {
     "name": "stdout",
     "output_type": "stream",
     "text": [
      "\n",
      "// SELECCIÓN\n",
      "// ORDEN ALEATORIO\n",
      "\n",
      "Items: 100\tTiempo: 0.0\n",
      "Items: 200\tTiempo: 0.00156264305115\n",
      "Items: 300\tTiempo: 0.00624995231628\n",
      "Items: 400\tTiempo: 0.00781292915344\n",
      "Items: 500\tTiempo: 0.0156245708466\n",
      "Items: 600\tTiempo: 0.0265626192093\n",
      "Items: 700\tTiempo: 0.0312499523163\n",
      "Items: 800\tTiempo: 0.034375166893\n",
      "Items: 900\tTiempo: 0.0909913539886\n",
      "Items: 1000\tTiempo: 0.111600089073\n",
      "Items: 1100\tTiempo: 0.118300032616\n",
      "Items: 1200\tTiempo: 0.101399827003\n",
      "Items: 1300\tTiempo: 0.12529938221\n",
      "Items: 1400\tTiempo: 0.142604541779\n",
      "Items: 1500\tTiempo: 0.15306289196\n",
      "Items: 1600\tTiempo: 0.165625238419\n",
      "Items: 1700\tTiempo: 0.192254447937\n",
      "Items: 1800\tTiempo: 0.278127884865\n",
      "Items: 1900\tTiempo: 0.246918416023\n",
      "Items: 2000\tTiempo: 0.206260895729\n",
      "\n",
      "Media Tiempo: 0.102794141769\n"
     ]
    }
   ],
   "source": [
    "print(\"\\n// SELECCIÓN\\n// ORDEN ALEATORIO\\n\")\n",
    "items = 100;\n",
    "array = []\n",
    "tiempos = []\n",
    "for x in range(0,20):\n",
    "    # Generación del array\n",
    "    for y in range(0,items):\n",
    "        array.append(random.randrange(0,items))\n",
    "    t = time()\n",
    "    # Bucle minimización errores\n",
    "    for num in range(0,10):\n",
    "        t = time()\n",
    "        Seleccion(copy.copy(array),items)\n",
    "        t = time() - t\n",
    "        tiempos.append(t)\n",
    "    print(\"Items: \" + str(len(array)) + \"\\tTiempo: \" + str(np.mean(tiempos)))\n",
    "    # Actualizacion índices y estructuras\n",
    "    saveSel['Aleatorio'].append(np.mean(tiempos))\n",
    "    items = items + 100\n",
    "    tiempos = []\n",
    "    array = []\n",
    "print(\"\\nMedia Tiempo: \" + str(np.mean(saveSel['Aleatorio'])))"
   ]
  },
  {
   "cell_type": "markdown",
   "metadata": {},
   "source": [
    "---"
   ]
  },
  {
   "cell_type": "markdown",
   "metadata": {},
   "source": [
    "# Burbuja"
   ]
  },
  {
   "cell_type": "markdown",
   "metadata": {},
   "source": [
    "Esquema algorítmico:\n",
    "\n",
    "```python\n",
    "def Burbuja(a,n):\n",
    "    for i in range(1,n):\n",
    "        for j in range(0,n-i):\n",
    "            if (a[j] > a[j+1]):\n",
    "                k = a[j+1]\n",
    "                a[j+1] = a[j]\n",
    "                a[j] = k\n",
    "```"
   ]
  },
  {
   "cell_type": "markdown",
   "metadata": {},
   "source": [
    "Volvemos a citar expresamente [Fuente](https://es.wikipedia.org/wiki/Ordenamiento_de_burbuja):\n",
    "\n",
    "> El algoritmo de ordenamiento de la Burbuja funciona revisando cada elemento de la lista que va a ser ordenada con el siguiente, intercambiándolos de posición si están en el orden equivocado. Es necesario revisar varias veces toda la lista hasta que no se necesiten más intercambios, lo cual significa que la lista está ordenada. Este algoritmo obtiene su nombre de la forma con la que suben por la lista los elementos durante los intercambios, como si fueran pequeñas \"burbujas\". También es conocido como el método del intercambio directo. Dado que solo usa comparaciones para operar elementos, se lo considera un algoritmo de comparación, siendo uno de los más sencillo de implementar.\n",
    "\n",
    "\n",
    "![Burbuja](https://upload.wikimedia.org/wikipedia/commons/thumb/c/c8/Bubble-sort-example-300px.gif/250px-Bubble-sort-example-300px.gif)"
   ]
  },
  {
   "cell_type": "markdown",
   "metadata": {},
   "source": [
    "Volvemos a cargar la función dada y creamos el diccionario que nos ayuda a almacenar los valores obtenidos para más tarde poder graficar los resultados:"
   ]
  },
  {
   "cell_type": "code",
   "execution_count": 12,
   "metadata": {
    "collapsed": true
   },
   "outputs": [],
   "source": [
    "def Burbuja(a,n):\n",
    "    for i in range(1,n):\n",
    "        for j in range(0,n-i):\n",
    "            if(a[j] > a[j+1]):\n",
    "                k = a[j+1]\n",
    "                a[j+1] = a[j]\n",
    "                a[j] = k"
   ]
  },
  {
   "cell_type": "code",
   "execution_count": 13,
   "metadata": {
    "collapsed": false
   },
   "outputs": [],
   "source": [
    "saveBur = {'Directo': [], 'Inverso': [], 'Aleatorio': []}"
   ]
  },
  {
   "cell_type": "markdown",
   "metadata": {},
   "source": [
    "---"
   ]
  },
  {
   "cell_type": "markdown",
   "metadata": {},
   "source": [
    "## Orden Directo"
   ]
  },
  {
   "cell_type": "code",
   "execution_count": 14,
   "metadata": {
    "collapsed": false
   },
   "outputs": [
    {
     "name": "stdout",
     "output_type": "stream",
     "text": [
      "\n",
      "// BURBUJA\n",
      "// ORDEN DIRECTO\n",
      "\n",
      "Items: 100\tTiempo: 0.0\n",
      "Items: 200\tTiempo: 0.0\n",
      "Items: 300\tTiempo: 0.0\n",
      "Items: 400\tTiempo: 0.015183687210083008\n",
      "Items: 500\tTiempo: 0.01566767692565918\n",
      "Items: 600\tTiempo: 0.015625\n",
      "Items: 700\tTiempo: 0.031206130981445312\n",
      "Items: 800\tTiempo: 0.04687643051147461\n",
      "Items: 900\tTiempo: 0.0468754768371582\n",
      "Items: 1000\tTiempo: 0.04687809944152832\n",
      "Items: 1100\tTiempo: 0.07812261581420898\n",
      "Items: 1200\tTiempo: 0.0937492847442627\n",
      "Items: 1300\tTiempo: 0.09374809265136719\n",
      "Items: 1400\tTiempo: 0.09375286102294922\n",
      "Items: 1500\tTiempo: 0.12499856948852539\n",
      "Items: 1600\tTiempo: 0.14140772819519043\n",
      "Items: 1700\tTiempo: 0.2187485694885254\n",
      "Items: 1800\tTiempo: 0.2187507152557373\n",
      "Items: 1900\tTiempo: 0.2187511920928955\n",
      "Items: 2000\tTiempo: 0.2656228542327881\n",
      "\n",
      "Media Tiempo: 0.0882982492447\n"
     ]
    }
   ],
   "source": [
    "print(\"\\n// BURBUJA\\n// ORDEN DIRECTO\\n\")\n",
    "items = 100;\n",
    "for x in range(0,20):\n",
    "    array = list(range(0, items));\n",
    "    t = time()\n",
    "    Burbuja(array,items)\n",
    "    t = time() - t\n",
    "    print(\"Items: \" + str(len(array)) + \"\\tTiempo: \" + str(t))\n",
    "    saveBur['Directo'].append(t)\n",
    "    items = items + 100\n",
    "print(\"\\nMedia Tiempo: \" + str(np.mean(saveBur['Directo'])))"
   ]
  },
  {
   "cell_type": "markdown",
   "metadata": {},
   "source": [
    "---"
   ]
  },
  {
   "cell_type": "markdown",
   "metadata": {},
   "source": [
    "## Orden Inverso"
   ]
  },
  {
   "cell_type": "code",
   "execution_count": 15,
   "metadata": {
    "collapsed": false
   },
   "outputs": [
    {
     "name": "stdout",
     "output_type": "stream",
     "text": [
      "\n",
      "// BURBUJA\n",
      "// ORDEN INVERSO\n",
      "\n",
      "Items: 100\tTiempo: 0.0\n",
      "Items: 200\tTiempo: 0.015679121017456055\n",
      "Items: 300\tTiempo: 0.015568733215332031\n",
      "Items: 400\tTiempo: 0.015625476837158203\n",
      "Items: 500\tTiempo: 0.04687762260437012\n",
      "Items: 600\tTiempo: 0.06249666213989258\n",
      "Items: 700\tTiempo: 0.0937950611114502\n",
      "Items: 800\tTiempo: 0.0937051773071289\n",
      "Items: 900\tTiempo: 0.1250450611114502\n",
      "Items: 1000\tTiempo: 0.1562061309814453\n",
      "Items: 1100\tTiempo: 0.17191076278686523\n",
      "Items: 1200\tTiempo: 0.2503995895385742\n",
      "Items: 1300\tTiempo: 0.45313072204589844\n",
      "Items: 1400\tTiempo: 0.4531211853027344\n",
      "Items: 1500\tTiempo: 0.4531261920928955\n",
      "Items: 1600\tTiempo: 0.7499992847442627\n",
      "Items: 1700\tTiempo: 0.9687626361846924\n",
      "Items: 1800\tTiempo: 0.5624868869781494\n",
      "Items: 1900\tTiempo: 0.5530600547790527\n",
      "Items: 2000\tTiempo: 0.6093747615814209\n",
      "\n",
      "Media Tiempo: 0.292518556118\n"
     ]
    }
   ],
   "source": [
    "print(\"\\n// BURBUJA\\n// ORDEN INVERSO\\n\")\n",
    "items = 100;\n",
    "for x in range(0,20):\n",
    "    array = list(range(0, items));\n",
    "    array.reverse()\n",
    "    t = time()\n",
    "    Burbuja(array,items)\n",
    "    t = time() - t\n",
    "    saveBur['Inverso'].append(t)\n",
    "    print(\"Items: \" + str(len(array)) + \"\\tTiempo: \" + str(t))\n",
    "    items = items + 100\n",
    "print(\"\\nMedia Tiempo: \" + str(np.mean(saveBur['Inverso'])))"
   ]
  },
  {
   "cell_type": "markdown",
   "metadata": {},
   "source": [
    "---"
   ]
  },
  {
   "cell_type": "markdown",
   "metadata": {},
   "source": [
    "## Orden Aleatorio"
   ]
  },
  {
   "cell_type": "code",
   "execution_count": 16,
   "metadata": {
    "collapsed": false
   },
   "outputs": [
    {
     "name": "stdout",
     "output_type": "stream",
     "text": [
      "\n",
      "// BURBUJA\n",
      "// ORDEN ALEATORIO\n",
      "\n",
      "Items: 100\tTiempo: 0.0\n",
      "Items: 200\tTiempo: 0.00312490463257\n",
      "Items: 300\tTiempo: 0.009375\n",
      "Items: 400\tTiempo: 0.0156294584274\n",
      "Items: 500\tTiempo: 0.0234331607819\n",
      "Items: 600\tTiempo: 0.0343749284744\n",
      "Items: 700\tTiempo: 0.0531626701355\n",
      "Items: 800\tTiempo: 0.0656303882599\n",
      "Items: 900\tTiempo: 0.0829496860504\n",
      "Items: 1000\tTiempo: 0.106254506111\n",
      "Items: 1100\tTiempo: 0.13286345005\n",
      "Items: 1200\tTiempo: 0.156266570091\n",
      "Items: 1300\tTiempo: 0.181314539909\n",
      "Items: 1400\tTiempo: 0.193750143051\n",
      "Items: 1500\tTiempo: 0.225019478798\n",
      "Items: 1600\tTiempo: 0.259409427643\n",
      "Items: 1700\tTiempo: 0.300018501282\n",
      "Items: 1800\tTiempo: 0.315663123131\n",
      "Items: 1900\tTiempo: 0.359403920174\n",
      "Items: 2000\tTiempo: 0.385957455635\n",
      "\n",
      "Media Tiempo: 0.145180065632\n"
     ]
    }
   ],
   "source": [
    "print(\"\\n// BURBUJA\\n// ORDEN ALEATORIO\\n\")\n",
    "items = 100;\n",
    "array = []\n",
    "tiempos = []\n",
    "for x in range(0,20):\n",
    "    # Generación del array\n",
    "    for y in range(0,items):\n",
    "        array.append(random.randrange(0,items))\n",
    "    t = time()\n",
    "    # Bucle minimización errores\n",
    "    for num in range(0,10):\n",
    "        t = time()\n",
    "        Burbuja(copy.copy(array),items)\n",
    "        t = time() - t\n",
    "        tiempos.append(t)\n",
    "    print(\"Items: \" + str(len(array)) + \"\\tTiempo: \" + str(np.mean(tiempos)))\n",
    "    # Actualizacion índices y estructuras\n",
    "    saveBur['Aleatorio'].append(np.mean(tiempos))\n",
    "    items = items + 100\n",
    "    tiempos = []\n",
    "    array = []\n",
    "print(\"\\nMedia Tiempo: \" + str(np.mean(saveBur['Aleatorio'])))"
   ]
  },
  {
   "cell_type": "markdown",
   "metadata": {},
   "source": [
    "---"
   ]
  },
  {
   "cell_type": "markdown",
   "metadata": {},
   "source": [
    "# Ajuste función analítica"
   ]
  },
  {
   "cell_type": "markdown",
   "metadata": {},
   "source": [
    "En este caso, puede hacerse debido a que sabemos que las respectivas funciones de tiempo de ejecución respecto al tamaño del problema son de tipo cuadrático, es decir\n",
    "\n",
    "```\n",
    "T(n) = A * n2 + B * n + C\n",
    "```\n",
    "\n",
    "Por ello, es posible ajustar los valores de A, B y C mediante métodos numéricos. En particular, `Python` incorpora en su librería matemática `numpy` la función `polyfit` que nos proporciona un ajuste a una función polinómica, como ocurre en este caso, de grado 2. Por ello la tercera salida debe ser un ajuste a la función cuadrática de cada uno de los resultados experimentales.\n",
    "\n",
    "Para ver este ajuste a la función cuadrática, generamos diferentes gráficas para los diferentes experimentos:\n"
   ]
  },
  {
   "cell_type": "markdown",
   "metadata": {},
   "source": [
    "---"
   ]
  },
  {
   "cell_type": "code",
   "execution_count": 103,
   "metadata": {
    "collapsed": true
   },
   "outputs": [],
   "source": [
    "# Esquivar los warnings que produce numpy debido a la pobre parametrización de la función polyfit\n",
    "np.warnings.filterwarnings('ignore')"
   ]
  },
  {
   "cell_type": "markdown",
   "metadata": {},
   "source": [
    "---"
   ]
  },
  {
   "cell_type": "markdown",
   "metadata": {},
   "source": [
    "## Orden Directo"
   ]
  },
  {
   "cell_type": "code",
   "execution_count": 146,
   "metadata": {
    "collapsed": false
   },
   "outputs": [
    {
     "name": "stdout",
     "output_type": "stream",
     "text": [
      "\n",
      "- ALGORITMO: INSERCIÓN\n",
      "- ORDEN: DIRECTO\n"
     ]
    },
    {
     "data": {
      "image/png": "[encoded data removed]",
      "text/plain": [
       "<matplotlib.figure.Figure at 0x207bb7c8f98>"
      ]
     },
     "metadata": {},
     "output_type": "display_data"
    },
    {
     "name": "stdout",
     "output_type": "stream",
     "text": [
      "\n",
      "- ORDEN: INVERSO\n"
     ]
    },
    {
     "data": {
      "image/png": "[encoded data removed]",
      "text/plain": [
       "<matplotlib.figure.Figure at 0x207bccab860>"
      ]
     },
     "metadata": {},
     "output_type": "display_data"
    },
    {
     "name": "stdout",
     "output_type": "stream",
     "text": [
      "\n",
      "- ORDEN: ALEATORIO\n"
     ]
    },
    {
     "data": {
      "image/png": "[encoded data removed]",
      "text/plain": [
       "<matplotlib.figure.Figure at 0x207bb58d710>"
      ]
     },
     "metadata": {},
     "output_type": "display_data"
    }
   ],
   "source": [
    "print(\"\\n- ALGORITMO: INSERCIÓN\\n- ORDEN: DIRECTO\")\n",
    "plt.figure(figsize=(10,5))\n",
    "z = np.polyfit(saveIns['Directo'], range(0,2000,100), 2)\n",
    "p = np.poly1d(z)\n",
    "\n",
    "xp = np.linspace(-0.2, 0.2)\n",
    "_ = plt.plot(saveIns['Directo'], range(0,2000,100), '.', xp, p(xp), '-')\n",
    "plt.ylim(-100,2001)\n",
    "plt.show()\n",
    "\n",
    "print(\"\\n- ORDEN: INVERSO\")\n",
    "plt.figure(figsize=(10,5))\n",
    "z = np.polyfit(saveIns['Inverso'], range(0,2000,100), 2)\n",
    "p = np.poly1d(z)\n",
    "\n",
    "xp = np.linspace(-0.2, 1)\n",
    "_ = plt.plot(saveIns['Inverso'], range(0,2000,100), '.', xp, p(xp), '-')\n",
    "plt.ylim(-100,2001)\n",
    "plt.show()\n",
    "\n",
    "print(\"\\n- ORDEN: ALEATORIO\")\n",
    "plt.figure(figsize=(10,5))\n",
    "z = np.polyfit(saveIns['Aleatorio'], range(0,2000,100), 2)\n",
    "p = np.poly1d(z)\n",
    "\n",
    "xp = np.linspace(-0.2, 1)\n",
    "_ = plt.plot(saveIns['Aleatorio'], range(0,2000,100), '.', xp, p(xp), '-')\n",
    "plt.ylim(-100,2001)\n",
    "plt.show()"
   ]
  },
  {
   "cell_type": "markdown",
   "metadata": {},
   "source": [
    "---"
   ]
  },
  {
   "cell_type": "markdown",
   "metadata": {},
   "source": [
    "## Orden Inverso"
   ]
  },
  {
   "cell_type": "code",
   "execution_count": 145,
   "metadata": {
    "collapsed": false,
    "scrolled": false
   },
   "outputs": [
    {
     "name": "stdout",
     "output_type": "stream",
     "text": [
      "\n",
      "- ALGORITMO: SELECCIÓN\n",
      "- ORDEN: DIRECTO\n"
     ]
    },
    {
     "data": {
      "image/png": "[encoded data removed]",
      "text/plain": [
       "<matplotlib.figure.Figure at 0x207bb649da0>"
      ]
     },
     "metadata": {},
     "output_type": "display_data"
    },
    {
     "name": "stdout",
     "output_type": "stream",
     "text": [
      "\n",
      "- ORDEN: INVERSO\n"
     ]
    },
    {
     "data": {
      "image/png": "[encoded data removed]",
      "text/plain": [
       "<matplotlib.figure.Figure at 0x207bcf90198>"
      ]
     },
     "metadata": {},
     "output_type": "display_data"
    },
    {
     "name": "stdout",
     "output_type": "stream",
     "text": [
      "\n",
      "- ORDEN: ALEATORIO\n"
     ]
    },
    {
     "data": {
      "image/png": "[encoded data removed]",
      "text/plain": [
       "<matplotlib.figure.Figure at 0x207bd03fc50>"
      ]
     },
     "metadata": {},
     "output_type": "display_data"
    }
   ],
   "source": [
    "print(\"\\n- ALGORITMO: SELECCIÓN\\n- ORDEN: DIRECTO\")\n",
    "plt.figure(figsize=(10,5))\n",
    "z = np.polyfit(saveSel['Directo'], range(0,2000,100), 2)\n",
    "p = np.poly1d(z)\n",
    "\n",
    "xp = np.linspace(-0.2, 0.6)\n",
    "_ = plt.plot(saveSel['Directo'], range(0,2000,100), '.r', xp, p(xp), '-')\n",
    "plt.ylim(-100,2001)\n",
    "plt.show()\n",
    "\n",
    "print(\"\\n- ORDEN: INVERSO\")\n",
    "plt.figure(figsize=(10,5))\n",
    "z = np.polyfit(saveSel['Inverso'], range(0,2000,100), 2)\n",
    "p = np.poly1d(z)\n",
    "\n",
    "xp = np.linspace(-0.2, 0.8)\n",
    "_ = plt.plot(saveSel['Inverso'], range(0,2000,100), '.r', xp, p(xp), '-')\n",
    "plt.ylim(-100,2001)\n",
    "plt.show()\n",
    "\n",
    "print(\"\\n- ORDEN: ALEATORIO\")\n",
    "plt.figure(figsize=(10,5))\n",
    "z = np.polyfit(saveSel['Aleatorio'], range(0,2000,100), 2)\n",
    "p = np.poly1d(z)\n",
    "\n",
    "xp = np.linspace(-0.2, 1)\n",
    "_ = plt.plot(saveSel['Aleatorio'], range(0,2000,100), '.r', xp, p(xp), '-')\n",
    "plt.ylim(-100,2001)\n",
    "plt.show()"
   ]
  },
  {
   "cell_type": "markdown",
   "metadata": {},
   "source": [
    "---"
   ]
  },
  {
   "cell_type": "markdown",
   "metadata": {},
   "source": [
    "## Orden Aleatorio"
   ]
  },
  {
   "cell_type": "code",
   "execution_count": 144,
   "metadata": {
    "collapsed": false,
    "scrolled": false
   },
   "outputs": [
    {
     "name": "stdout",
     "output_type": "stream",
     "text": [
      "\n",
      "- ALGORITMO: BURBUJA\n",
      "- ORDEN: DIRECTO\n"
     ]
    },
    {
     "data": {
      "image/png": "[encoded data removed]",
      "text/plain": [
       "<matplotlib.figure.Figure at 0x207bcf9ab70>"
      ]
     },
     "metadata": {},
     "output_type": "display_data"
    },
    {
     "name": "stdout",
     "output_type": "stream",
     "text": [
      "\n",
      "- ORDEN: INVERSO\n"
     ]
    },
    {
     "data": {
      "image/png": "[encoded data removed]",
      "text/plain": [
       "<matplotlib.figure.Figure at 0x207bcf84b38>"
      ]
     },
     "metadata": {},
     "output_type": "display_data"
    },
    {
     "name": "stdout",
     "output_type": "stream",
     "text": [
      "\n",
      "- ORDEN: ALEATORIO\n"
     ]
    },
    {
     "data": {
      "image/png": "[encoded data removed]",
      "text/plain": [
       "<matplotlib.figure.Figure at 0x207bb6b7940>"
      ]
     },
     "metadata": {},
     "output_type": "display_data"
    }
   ],
   "source": [
    "print(\"\\n- ALGORITMO: BURBUJA\\n- ORDEN: DIRECTO\")\n",
    "plt.figure(figsize=(10,5))\n",
    "z = np.polyfit(saveBur['Directo'], range(0,2000,100), 2)\n",
    "p = np.poly1d(z)\n",
    "\n",
    "xp = np.linspace(-0.2, 0.7)\n",
    "_ = plt.plot(saveBur['Directo'], range(0,2000,100), '.g', xp, p(xp), '-')\n",
    "plt.ylim(-100,2001)\n",
    "plt.show()\n",
    "\n",
    "print(\"\\n- ORDEN: INVERSO\")\n",
    "plt.figure(figsize=(10,5))\n",
    "z = np.polyfit(saveBur['Inverso'], range(0,2000,100), 2)\n",
    "p = np.poly1d(z)\n",
    "\n",
    "xp = np.linspace(-0.2, 1.6)\n",
    "_ = plt.plot(saveBur['Inverso'], range(0,2000,100), '.g', xp, p(xp), '-')\n",
    "plt.ylim(-100,2001)\n",
    "plt.show()\n",
    "\n",
    "print(\"\\n- ORDEN: ALEATORIO\")\n",
    "plt.figure(figsize=(10,5))\n",
    "z = np.polyfit(saveBur['Aleatorio'], range(0,2000,100), 2)\n",
    "p = np.poly1d(z)\n",
    "\n",
    "xp = np.linspace(-0.2, 1.2)\n",
    "_ = plt.plot(saveBur['Aleatorio'], range(0,2000,100), '.g', xp, p(xp), '-')\n",
    "plt.ylim(-100,2001)\n",
    "plt.show()"
   ]
  },
  {
   "cell_type": "markdown",
   "metadata": {},
   "source": [
    "---"
   ]
  },
  {
   "cell_type": "markdown",
   "metadata": {},
   "source": [
    "# Conclusiones  \n",
    "\n"
   ]
  },
  {
   "cell_type": "markdown",
   "metadata": {},
   "source": [
    "Para resumir esta práctica 1 de acuerdo a los resultados obtenidos en las ejecuciones de los experimentos con cada algoritmo de ordenación, vamos a graficar estos datos para hacernos una mejor idea de las vetajas y desventajas de cada algoritmo.  \n",
    "Para ello usaremos la librería `matplotlib.pyplot`, la cual nos permite generar gráficos facilmente en `Python`.\n",
    "\n",
    "Generemos tres gráficos que se corresponden con los tres algoritmos de ordenación, colocando en el eje x el `Tiempo` de ejecución de cada experimento y en el eje y, el número de `Items` que se ha usado en dicho experimento:"
   ]
  },
  {
   "cell_type": "code",
   "execution_count": 147,
   "metadata": {
    "collapsed": false
   },
   "outputs": [
    {
     "name": "stdout",
     "output_type": "stream",
     "text": [
      "\n",
      "- INSERCIÓN\n"
     ]
    },
    {
     "data": {
      "image/png": "[encoded data removed]",
      "text/plain": [
       "<matplotlib.figure.Figure at 0x207bcc439b0>"
      ]
     },
     "metadata": {},
     "output_type": "display_data"
    }
   ],
   "source": [
    "# Inserción\n",
    "print(\"\\n- INSERCIÓN\")\n",
    "plt.figure(figsize=(10,5))\n",
    "plt.plot(range(100,2100,100), saveIns['Directo'], label='Directo')\n",
    "plt.plot(range(100,2100,100), saveIns['Inverso'], label='Inverso')\n",
    "plt.plot(range(100,2100,100), saveIns['Aleatorio'], label='Aleatorio')\n",
    "plt.xlabel('Items')\n",
    "plt.ylabel('Tiempo')\n",
    "leg = plt.legend(ncol=1)\n",
    "# Contorno de la legenda\n",
    "leg.get_frame().set_alpha(0)\n",
    "plt.show()"
   ]
  },
  {
   "cell_type": "markdown",
   "metadata": {},
   "source": [
    "Como podemos ver el algoritmo de `Inserción` ordenando arrays muestra sus mejores resultados cuando están en orden directo, y su peor resultado cuando se encuentran en orden inverso.  \n",
    "Esto es totalmente lógico, ya que va a tener que comparar n elementos, n-1 veces, ya que todos tendrán que posicionarse en la posición inversa a la actual.  \n",
    "\n",
    "No observamos grandes rasgos a destacar, su aumento en `Tiempo` en función de los `Items` es complemtamente regular."
   ]
  },
  {
   "cell_type": "markdown",
   "metadata": {},
   "source": [
    "---"
   ]
  },
  {
   "cell_type": "code",
   "execution_count": 184,
   "metadata": {
    "collapsed": false
   },
   "outputs": [
    {
     "name": "stdout",
     "output_type": "stream",
     "text": [
      "\n",
      "- SELECCIÓN\n"
     ]
    },
    {
     "data": {
      "image/png": "[encoded data removed]",
      "text/plain": [
       "<matplotlib.figure.Figure at 0x207bcfae4a8>"
      ]
     },
     "metadata": {},
     "output_type": "display_data"
    }
   ],
   "source": [
    "# Selección\n",
    "print(\"\\n- SELECCIÓN\")\n",
    "plt.figure(figsize=(10,5))\n",
    "plt.plot(range(100,2100,100), saveSel['Directo'], label='Directo')\n",
    "plt.plot(range(100,2100,100), saveSel['Inverso'], label='Inverso')\n",
    "plt.plot(range(100,2100,100), saveSel['Aleatorio'], label='Aleatorio')\n",
    "plt.xlabel('Items')\n",
    "plt.ylabel('Tiempo')\n",
    "leg = plt.legend(ncol=1)\n",
    "# Contorno de la legenda\n",
    "leg.get_frame().set_alpha(0)\n",
    "plt.show()"
   ]
  },
  {
   "cell_type": "markdown",
   "metadata": {},
   "source": [
    "En la gráfica del algoritmo de `Selección` podemos ver como los valores obtenidos en `Tiempo` para el orden inverso y directo son muy similares.  \n",
    "Esto es debido a que en este algoritmo aunque encontremos en caso de orden directo el menor número al principio del array, debemos compararlo con todos los demás números del conjunto (n). Al igual que en el caso del orden inverso, el cual no tendrá  que recorrer toda la tabla comparando, sin embargo si que tendrá que hacer n comprobaciones buscando el menor elemento.\n",
    "\n",
    "También notamos algunos picos en el orden aleatorio que pueden deberse a determinadas configuraciones en la formación del array."
   ]
  },
  {
   "cell_type": "markdown",
   "metadata": {},
   "source": [
    "---"
   ]
  },
  {
   "cell_type": "code",
   "execution_count": 185,
   "metadata": {
    "collapsed": false
   },
   "outputs": [
    {
     "name": "stdout",
     "output_type": "stream",
     "text": [
      "\n",
      "- BURBUJA\n"
     ]
    },
    {
     "data": {
      "image/png": "[encoded data removed]",
      "text/plain": [
       "<matplotlib.figure.Figure at 0x207bd0b1a90>"
      ]
     },
     "metadata": {},
     "output_type": "display_data"
    }
   ],
   "source": [
    "#Burbuja\n",
    "print(\"\\n- BURBUJA\")\n",
    "plt.figure(figsize=(10,5))\n",
    "plt.plot(range(100,2100,100), saveBur['Directo'], label='Directo')\n",
    "plt.plot(range(100,2100,100), saveBur['Inverso'], label='Inverso')\n",
    "plt.plot(range(100,2100,100), saveBur['Aleatorio'], label='Aleatorio')\n",
    "plt.xlabel('Items')\n",
    "plt.ylabel('Tiempo')\n",
    "leg = plt.legend(ncol=1)\n",
    "# Contorno de la legenda\n",
    "leg.get_frame().set_alpha(0)\n",
    "plt.show()"
   ]
  },
  {
   "cell_type": "markdown",
   "metadata": {},
   "source": [
    "Por último el algoritmo de ordenación de `Burbuja` obtiene los mejores resultados en función del `Tiempo` cuando el orden del array es directo y los peores cuando se encuentra en orden inverso.  \n",
    "Esto es debido a que aunque en el orden directo no realiza cambios de burbuja, en orden inverso si que tiene que realizar n cambios para cada elemento, y comprobar con n-1 elementos."
   ]
  },
  {
   "cell_type": "markdown",
   "metadata": {},
   "source": [
    " "
   ]
  }
 ],
 "metadata": {
  "kernelspec": {
   "display_name": "Python 3",
   "language": "python",
   "name": "python3"
  },
  "language_info": {
   "codemirror_mode": {
    "name": "ipython",
    "version": 3
   },
   "file_extension": ".py",
   "mimetype": "text/x-python",
   "name": "python",
   "nbconvert_exporter": "python",
   "pygments_lexer": "ipython3",
   "version": "3.6.0"
  }
 },
 "nbformat": 4,
 "nbformat_minor": 2
}
